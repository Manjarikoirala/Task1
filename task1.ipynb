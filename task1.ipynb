{
 "cells": [
  {
   "cell_type": "code",
   "execution_count": 2,
   "id": "3b03e3d3-6bd4-4467-bd15-59b4f1ec60db",
   "metadata": {},
   "outputs": [
    {
     "name": "stdout",
     "output_type": "stream",
     "text": [
      "set before updation is {9, 3, 5, 6}\n",
      "updated set: {4, 5, 6, 7, 9}\n"
     ]
    }
   ],
   "source": [
    "#create a set\n",
    "my_set={5,6,3,9}\n",
    "print(\"set before updation is\",my_set)\n",
    "\n",
    "#adding\n",
    "my_set.add(4)\n",
    "\n",
    "#removing\n",
    "my_set.remove(3)\n",
    "\n",
    "#modify\n",
    "my_set.discard(2)\n",
    "my_set.add(7)\n",
    "\n",
    "print(\"updated set:\",my_set)"
   ]
  },
  {
   "cell_type": "code",
   "execution_count": 4,
   "id": "81234dd0-7990-406c-88d8-f679583aabdc",
   "metadata": {},
   "outputs": [
    {
     "name": "stdout",
     "output_type": "stream",
     "text": [
      "updated dictionary: {'name': 'jiya', 'age': 20, 'city': 'bangaluru'}\n"
     ]
    }
   ],
   "source": [
    "#creating a dictionory\n",
    "my_dict={'name':'jiya','age':15,'gender':'female'}\n",
    "\n",
    "#adding\n",
    "my_dict['city']='bangaluru'\n",
    "\n",
    "#removing\n",
    "del my_dict['gender']\n",
    "\n",
    "#modify\n",
    "my_dict['age']=20\n",
    "\n",
    "print(\"updated dictionary:\",my_dict)\n",
    "\n"
   ]
  },
  {
   "cell_type": "code",
   "execution_count": 7,
   "id": "ead8501f-a4b7-4f6d-9fe0-9c3eedb9ab85",
   "metadata": {},
   "outputs": [
    {
     "name": "stdout",
     "output_type": "stream",
     "text": [
      "update list: [4, 12, 9, 7]\n"
     ]
    }
   ],
   "source": [
    "#creating a list\n",
    "my_list=[4,12,8,5]\n",
    "\n",
    "#adding an element to the list\n",
    "my_list.append(7)\n",
    "\n",
    "#removing an element\n",
    "my_list.remove(5)\n",
    "\n",
    "#modify an element\n",
    "my_list[2]=9\n",
    "print(\"update list:\",my_list)"
   ]
  },
  {
   "cell_type": "code",
   "execution_count": null,
   "id": "024063f3-9364-4e90-851a-6ace71efed6e",
   "metadata": {},
   "outputs": [],
   "source": []
  }
 ],
 "metadata": {
  "kernelspec": {
   "display_name": "Python 3 (ipykernel)",
   "language": "python",
   "name": "python3"
  },
  "language_info": {
   "codemirror_mode": {
    "name": "ipython",
    "version": 3
   },
   "file_extension": ".py",
   "mimetype": "text/x-python",
   "name": "python",
   "nbconvert_exporter": "python",
   "pygments_lexer": "ipython3",
   "version": "3.12.3"
  }
 },
 "nbformat": 4,
 "nbformat_minor": 5
}
